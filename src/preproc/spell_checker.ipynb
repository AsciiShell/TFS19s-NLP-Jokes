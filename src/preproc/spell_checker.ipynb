{
 "cells": [
  {
   "cell_type": "code",
   "execution_count": 1,
   "metadata": {},
   "outputs": [],
   "source": [
    "import jamspell\n",
    "import sqlite3 as sqlite\n",
    "import tqdm\n",
    "import os\n",
    "import difflib"
   ]
  },
  {
   "cell_type": "code",
   "execution_count": 2,
   "metadata": {},
   "outputs": [],
   "source": [
    "conn = sqlite.connect('../../data/jokes.db')\n",
    "cursor = conn.cursor()"
   ]
  },
  {
   "cell_type": "code",
   "execution_count": 3,
   "metadata": {},
   "outputs": [
    {
     "data": {
      "text/plain": [
       "True"
      ]
     },
     "execution_count": 3,
     "metadata": {},
     "output_type": "execute_result"
    }
   ],
   "source": [
    "corrector = jamspell.TSpellCorrector()\n",
    "corrector.LoadLangModel('../../data/ru_small.bin')"
   ]
  },
  {
   "cell_type": "code",
   "execution_count": 12,
   "metadata": {},
   "outputs": [],
   "source": [
    "a = cursor.execute(\"\"\"SELECT COUNT(*) FROM jokes j\n",
    "WHERE j.likes == \"...\"\n",
    "GROUP BY j.likes\"\"\")"
   ]
  },
  {
   "cell_type": "code",
   "execution_count": 14,
   "metadata": {},
   "outputs": [
    {
     "ename": "StopIteration",
     "evalue": "",
     "output_type": "error",
     "traceback": [
      "\u001b[0;31m---------------------------------------------------------------------------\u001b[0m",
      "\u001b[0;31mStopIteration\u001b[0m                             Traceback (most recent call last)",
      "\u001b[0;32m<ipython-input-14-15841f3f11d4>\u001b[0m in \u001b[0;36m<module>\u001b[0;34m\u001b[0m\n\u001b[0;32m----> 1\u001b[0;31m \u001b[0mnext\u001b[0m\u001b[0;34m(\u001b[0m\u001b[0ma\u001b[0m\u001b[0;34m)\u001b[0m\u001b[0;34m\u001b[0m\u001b[0;34m\u001b[0m\u001b[0m\n\u001b[0m",
      "\u001b[0;31mStopIteration\u001b[0m: "
     ]
    }
   ],
   "source": [
    "next(a)"
   ]
  },
  {
   "cell_type": "code",
   "execution_count": 8,
   "metadata": {},
   "outputs": [
    {
     "name": "stderr",
     "output_type": "stream",
     "text": [
      "3it [00:00, 38.98it/s]"
     ]
    },
    {
     "name": "stdout",
     "output_type": "stream",
     "text": [
      "Про самообслуживание подростков. Когда к нашей соседке по комнате (1 курс) приехала младшая сестра, она воскликнула утром:— Оффигеть, ты кровать сама заправляешь! \n",
      "\n",
      "Про самообслуживание подростков. Когда к нашей соседке по комнате (1 курс) приехала младшая сестра, она воскликнула утром:— Оффигеть, ты кровать сама заправляешь! \n",
      "\n",
      "Участник: Хочу напомнить админам, что права о свободе слова защищены конституцией рф и действуют на всей её территории. а также. все равны перед законом. баном за политику были нарушены мои конституционные права на свободу слова и вполне могу подать на форум в суд. так что вам стоит бояться суда не только за политику, но и за цензуру.Модератор: Я тебе уже как-то писал:право высказывать свою точку зрения не означает автоматически обязанность всех и каждого предоставлять ресурс для публикации этой точки зрения.Так что иди, судись.Бан.Админ: Перезабанил на подольше. \n",
      "\n",
      "Участник: Хочу напомнить динамо, что права о свободе слова защищены конституцией рф и действуют на всей её территории. а также. все равны перед законом. баном за политику были нарушены мои конституционные права на свободу слова и вполне могу подать на форум в суд. так что вам стоит бояться суда не только за политику, но и за цензуру.Модератор: Я тебе уже как-то писал:право высказывать свою точку зрения не означает автоматически обязанность всех и каждого предоставлять ресурс для публикации этой точки зрения.Так что иди, судить.Бан.Амин: Перезабанил на подольше. \n",
      "\n",
      "Хабр многогранныйvconst: Не надо сектантства, контрруление не единственный способ наклонить мот. На медленном маневрировании я вообще жопой рулю, мотнул ей вправо, мот наклонился и повернул, руками руль не кручу при этом. Труъ байкеръ рулит перекладывая пузо с бака направо или налево, спортами рулят перекладывая жвачку из-за одной щеки — за другую :)vlreshet: А эндуристы просто сбрасывают комок грязи с одной стороны, меняя тем самым развесовку :) \n",
      "\n",
      "Хабр многогранныйvconst: Не надо сектантства, контрруление не единственный способ наклонить мот. На медленном маневрировании я вообще жопой руль, мотнул ей вправо, мот наклонился и повернул, руками руль не кругу при этом. Труд байкер сулит перекладывая пузо с бака направо или налево, портами руля перекладывая жвачку из-за одной щеки — за другую :)vlreshet: А эндуристы просто сбрасывают комок грязи с одной стороны, меняя тем самым развесовку :) \n",
      "\n"
     ]
    },
    {
     "name": "stderr",
     "output_type": "stream",
     "text": [
      "\n"
     ]
    }
   ],
   "source": [
    "for row in tqdm.tqdm(cursor.execute(\"SELECT * FROM jokes LIMIT 3\")):\n",
    "    print(row[1], '\\n')\n",
    "    print(corrector.FixFragment(row[1]), '\\n')"
   ]
  },
  {
   "cell_type": "code",
   "execution_count": 32,
   "metadata": {},
   "outputs": [
    {
     "name": "stderr",
     "output_type": "stream",
     "text": [
      "73054it [11:24, 106.78it/s]\n"
     ]
    }
   ],
   "source": [
    "fixed = []\n",
    "\n",
    "sql = \"SELECT * FROM jokes\"\n",
    "num_corrected = 0\n",
    "whole_num = 0\n",
    "\n",
    "for row in tqdm.tqdm(cursor.execute(sql)):\n",
    "    corrected = corrector.FixFragment(row[1])\n",
    "    if corrected != row[1]:\n",
    "        num_corrected += 1\n",
    "    whole_num += 1\n",
    "    fixed.append({\n",
    "        'id': row[0],\n",
    "        'text': corrected,\n",
    "        'likes': row[2],\n",
    "        'date': row[3]\n",
    "    })"
   ]
  },
  {
   "cell_type": "code",
   "execution_count": 33,
   "metadata": {},
   "outputs": [
    {
     "name": "stdout",
     "output_type": "stream",
     "text": [
      "0.6012401784980973\n"
     ]
    }
   ],
   "source": [
    "print(num_corrected/whole_num)"
   ]
  },
  {
   "cell_type": "markdown",
   "metadata": {},
   "source": [
    "## Save corrected to db"
   ]
  },
  {
   "cell_type": "code",
   "execution_count": 34,
   "metadata": {},
   "outputs": [],
   "source": [
    "cursor.execute(\"\"\"\n",
    "CREATE TABLE IF NOT EXISTS corrected_jokes\n",
    "(id int PRIMARY KEY, jokes text, likes text, date text)\n",
    "\"\"\")\n",
    "conn.commit()"
   ]
  },
  {
   "cell_type": "code",
   "execution_count": 36,
   "metadata": {},
   "outputs": [
    {
     "data": {
      "text/plain": [
       "<sqlite3.Cursor at 0x7fbdab285ce0>"
      ]
     },
     "execution_count": 36,
     "metadata": {},
     "output_type": "execute_result"
    }
   ],
   "source": [
    "cursor.executemany(\n",
    "    \"INSERT INTO jokes VALUES (?,?,?,?)\", \n",
    "    [(joke['id'], joke['text'], joke['likes'], joke['date']) \n",
    "     for joke in fixed])"
   ]
  },
  {
   "cell_type": "code",
   "execution_count": 37,
   "metadata": {},
   "outputs": [],
   "source": [
    "conn.commit()"
   ]
  },
  {
   "cell_type": "code",
   "execution_count": 38,
   "metadata": {},
   "outputs": [],
   "source": [
    "cursor.execute(\"\"\"\n",
    "ALTER TABLE jokes ADD COLUMN corrected text\n",
    "\"\"\")\n",
    "conn.commit()"
   ]
  },
  {
   "cell_type": "code",
   "execution_count": 39,
   "metadata": {},
   "outputs": [
    {
     "data": {
      "text/plain": [
       "<sqlite3.Cursor at 0x7fbdab285ce0>"
      ]
     },
     "execution_count": 39,
     "metadata": {},
     "output_type": "execute_result"
    }
   ],
   "source": [
    "cursor.executemany(\n",
    "    \"INSERT INTO jokes (corrected) VALUES (?)\", \n",
    "    [(joke['text'], ) for joke in fixed])"
   ]
  },
  {
   "cell_type": "code",
   "execution_count": 40,
   "metadata": {},
   "outputs": [],
   "source": [
    "conn.commit()"
   ]
  },
  {
   "cell_type": "code",
   "execution_count": 45,
   "metadata": {},
   "outputs": [],
   "source": [
    "a = cursor.execute(\"\"\"\n",
    "SELECT corrected FROM jokes LIMIT 5\n",
    "\"\"\")"
   ]
  },
  {
   "cell_type": "code",
   "execution_count": 46,
   "metadata": {},
   "outputs": [
    {
     "name": "stdout",
     "output_type": "stream",
     "text": [
      "(None,)\n",
      "(None,)\n",
      "(None,)\n",
      "(None,)\n",
      "(None,)\n"
     ]
    }
   ],
   "source": [
    "for row in a:\n",
    "    print(row)"
   ]
  },
  {
   "cell_type": "code",
   "execution_count": 47,
   "metadata": {},
   "outputs": [],
   "source": [
    "cursor.execute(\"\"\"\n",
    "CREATE TABLE IF NOT EXISTS data\n",
    "(id int PRIMARY KEY, jokes text, corrected_jokes text, likes text, date text)\n",
    "\"\"\")\n",
    "conn.commit()"
   ]
  },
  {
   "cell_type": "code",
   "execution_count": 49,
   "metadata": {},
   "outputs": [
    {
     "data": {
      "text/plain": [
       "<sqlite3.Cursor at 0x7fbdab285ce0>"
      ]
     },
     "execution_count": 49,
     "metadata": {},
     "output_type": "execute_result"
    }
   ],
   "source": [
    "cursor.execute(\"\"\"\n",
    "INSERT INTO data SELECT jokes.id, jokes.jokes, corrected_jokes.jokes, jokes.likes, jokes.date FROM jokes, corrected_jokes\n",
    "\"\"\")"
   ]
  },
  {
   "cell_type": "code",
   "execution_count": 51,
   "metadata": {},
   "outputs": [],
   "source": [
    "conn.commit()"
   ]
  },
  {
   "cell_type": "code",
   "execution_count": 3,
   "metadata": {},
   "outputs": [],
   "source": [
    "for row in cursor.execute(\"SELECT * FROM data LIMIT 5\"):\n",
    "    print(row)"
   ]
  },
  {
   "cell_type": "code",
   "execution_count": null,
   "metadata": {},
   "outputs": [],
   "source": [
    "cursor.et"
   ]
  }
 ],
 "metadata": {
  "kernelspec": {
   "display_name": "Python 3",
   "language": "python",
   "name": "python3"
  },
  "language_info": {
   "codemirror_mode": {
    "name": "ipython",
    "version": 3
   },
   "file_extension": ".py",
   "mimetype": "text/x-python",
   "name": "python",
   "nbconvert_exporter": "python",
   "pygments_lexer": "ipython3",
   "version": "3.6.8"
  }
 },
 "nbformat": 4,
 "nbformat_minor": 2
}
