{
  "nbformat": 4,
  "nbformat_minor": 0,
  "metadata": {
    "colab": {
      "name": "ulmfit.ipynb",
      "version": "0.3.2",
      "provenance": [],
      "collapsed_sections": []
    },
    "language_info": {
      "codemirror_mode": {
        "name": "ipython",
        "version": 3
      },
      "file_extension": ".py",
      "mimetype": "text/x-python",
      "name": "python",
      "nbconvert_exporter": "python",
      "pygments_lexer": "ipython3",
      "version": "3.7.3"
    },
    "kernelspec": {
      "name": "python3",
      "display_name": "Python 3"
    },
    "accelerator": "GPU"
  },
  "cells": [
    {
      "metadata": {
        "id": "w-fzRyt2uOz2",
        "colab_type": "code",
        "colab": {}
      },
      "cell_type": "code",
      "source": [
        "from google.colab import drive\n",
        "drive.mount('/content/gdrive')"
      ],
      "execution_count": 0,
      "outputs": []
    },
    {
      "metadata": {
        "id": "xnnB0DeFuOz7",
        "colab_type": "code",
        "colab": {}
      },
      "cell_type": "code",
      "source": [
        "# pre-trained model from drive\n",
        "!mkdir models\n",
        "!cp gdrive/My\\ Drive/models/bestmodel_tune_itos.pkl models\n",
        "!cp gdrive/My\\ Drive/models/bestmodel_tune.pth models"
      ],
      "execution_count": 0,
      "outputs": []
    },
    {
      "metadata": {
        "id": "XwOjuDEsuOz-",
        "colab_type": "code",
        "colab": {}
      },
      "cell_type": "code",
      "source": [
        "from fastai.text import *\n",
        "\n",
        "from tqdm import tqdm_notebook\n",
        "\n",
        "import torch\n",
        "torch.cuda.set_device(0)"
      ],
      "execution_count": 0,
      "outputs": []
    },
    {
      "metadata": {
        "id": "Sv48n8wMuO0B",
        "colab_type": "code",
        "colab": {}
      },
      "cell_type": "code",
      "source": [
        "path = Path('.')\n",
        "bs = 64"
      ],
      "execution_count": 0,
      "outputs": []
    },
    {
      "metadata": {
        "id": "JY2HoP-2uO0E",
        "colab_type": "code",
        "colab": {}
      },
      "cell_type": "code",
      "source": [
        "texts = pd.read_csv('jokes_extended_vk_anekdot_preproc.csv', index_col=0)\n",
        "texts.dropna(inplace=True)"
      ],
      "execution_count": 0,
      "outputs": []
    },
    {
      "metadata": {
        "id": "eqLYYunquO0H",
        "colab_type": "code",
        "colab": {}
      },
      "cell_type": "code",
      "source": [
        "data = TextList.from_df(texts, \n",
        "                        processor=[TokenizeProcessor(tokenizer=Tokenizer(lang=\"xx\")), \n",
        "                                                     NumericalizeProcessor(min_freq=2, max_vocab=60000)])\\\n",
        "                                                    .split_by_rand_pct(.1)\\\n",
        "                                                    .label_for_lm()\\\n",
        "                                                    .databunch(bs=bs)"
      ],
      "execution_count": 0,
      "outputs": []
    },
    {
      "metadata": {
        "id": "gHWJBp8vuO0K",
        "colab_type": "code",
        "outputId": "f73d2953-a2ae-49cc-b352-baae5fe32be2",
        "colab": {
          "base_uri": "https://localhost:8080/",
          "height": 34
        }
      },
      "cell_type": "code",
      "source": [
        "learn = language_model_learner(data=data, arch=AWD_LSTM, pretrained=None)\n",
        "learn.load_pretrained('models/bestmodel_tune.pth', 'models/bestmodel_tune_itos.pkl')"
      ],
      "execution_count": 0,
      "outputs": [
        {
          "output_type": "execute_result",
          "data": {
            "text/plain": [
              "55329"
            ]
          },
          "metadata": {
            "tags": []
          },
          "execution_count": 8
        }
      ]
    },
    {
      "metadata": {
        "id": "UZ5tQokp-9R0",
        "colab_type": "code",
        "colab": {}
      },
      "cell_type": "code",
      "source": [
        "def generate(learn, n_words=200, temperature=1.0):\n",
        "  raw_data = learn.predict(text='', n_words=n_words, temperature=temperature)\n",
        "\n",
        "  jokes, joke = [], ''\n",
        "  for word in raw_data.split(' '):\n",
        "    if word == 'xxbos':\n",
        "      jokes.append(joke)\n",
        "      joke = ''\n",
        "    else:\n",
        "      joke += word + ' '\n",
        "\n",
        "\n",
        "  for i, joke in enumerate(jokes):\n",
        "    print(f'Шутка {i+1}\\n{joke}\\n')"
      ],
      "execution_count": 0,
      "outputs": []
    },
    {
      "metadata": {
        "id": "0wQ6JSwHwCgs",
        "colab_type": "code",
        "outputId": "9da0628e-5794-4282-b16d-a37717c6abfd",
        "colab": {
          "base_uri": "https://localhost:8080/",
          "height": 802
        }
      },
      "cell_type": "code",
      "source": [
        "generate(learn, n_words=400)"
      ],
      "execution_count": 0,
      "outputs": [
        {
          "output_type": "stream",
          "text": [
            "Шутка 1\n",
            " идеальный порядок - это российский мир , у которого британия богатая . если вы хотите , чтобы в мире был главный донором коррупции , то получится умер ! \n",
            "\n",
            "Шутка 2\n",
            "анекдоты про папу \n",
            " \n",
            "  - вовочка , а ты точно дебил \n",
            "  - нет , сережа , девочку в школе примут . \n",
            "  - ну , и пошла на хй ! \n",
            "  - помнится ребенок , наверное , дядя у отца сам был . \n",
            "  : .- \n",
            "\n",
            "Шутка 3\n",
            "школьник школы , который , обнял николая валуева , внимательно смотрел на итальянский флаг . увидев крики ветеранов человечества , подумал : чувак : \" сядь - ка ночи володя : заметив что это такое : взрослые стали пропадать к нам овны , тельцы , козероги . но придумали такое же самое : мишки доктором в разрешили эль среднюю грудь , а в бассейн постель кладут ! \n",
            "\n",
            "Шутка 4\n",
            "а вы ему забыли жениться на еврейке купил у него крестным кредиторам . \n",
            "\n",
            "Шутка 5\n",
            "похоже женщина люся , смотри , козлы . мы не перебью её так , как будто вы туда попали . \n",
            "\n",
            "Шутка 6\n",
            "после провала \" евровидения \" на евровидении судьи назовите все места для отбор . \n",
            "\n",
            "Шутка 7\n",
            "полицию останавливает мент , но гаишник останавливает его во время обгона . \n",
            "  мент спрашивает : \n",
            "  - а вы в твоем возрасте спите \n",
            "  - да а я в то время служил арестовать кого - нибудь . может , мы с цепью на шее вас отпустили . \n",
            "\n",
            "Шутка 8\n",
            "- девушка , что вам не удаётся сделать минет да я же за парадельфийские 5 . как за первый курс : год через неделю . пока ж весна на улице шеф встречает меня и стремление меня помочь ! один мой долг дыбом встает ! \n",
            "\n",
            "Шутка 9\n",
            "ремонт в метро очень важен для российских туристов . но что , что сделать с уникальной приехавшие антенной \n",
            "\n",
            "Шутка 10\n",
            "- здравствуйте , любовницы спасло не могу а дочка мой , но они костёр пиздят . \n",
            "\n",
            "Шутка 11\n",
            "видел украинцы магазины на рыбалке , понял , что салицил всю страну . а всё люди казалось бы , миру не пох . \n",
            "\n",
            "Шутка 12\n",
            "в отношении меня провели пропали все деньги . я , честное слово , нашёл три мешка для счастья . \n",
            "\n"
          ],
          "name": "stdout"
        }
      ]
    }
  ]
}